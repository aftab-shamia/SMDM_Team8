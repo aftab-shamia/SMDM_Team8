{
 "cells": [
  {
   "cell_type": "code",
   "execution_count": null,
   "metadata": {},
   "outputs": [],
   "source": []
  },
  {
   "cell_type": "raw",
   "metadata": {},
   "source": [
    "TABLE OF CONTENT\n",
    "ABOUT DATA SET\n",
    "DESCRIPTIVE STATISTICS\n",
    "HYPOTHESIS TESTING\n",
    "SIMULATION"
   ]
  },
  {
   "cell_type": "raw",
   "metadata": {},
   "source": [
    "ABOUT DATA SET\n",
    "Importing required libraries"
   ]
  },
  {
   "cell_type": "code",
   "execution_count": 1,
   "metadata": {},
   "outputs": [],
   "source": [
    "import numpy as np\n",
    "import pandas as pd\n",
    "import matplotlib.pyplot as plt\n",
    "import seaborn as sns\n",
    "\n",
    "# import statsmodels\n",
    "from scipy import stats\n",
    "import statsmodels.api as sm\n",
    "from statsmodels.formula.api import ols\n",
    "from statsmodels.stats.anova import anova_lm\n",
    "\n",
    "# function to perform post-hoc test\n",
    "import statsmodels.stats.multicomp as mc\n",
    "# import function to perform post-hoc\n",
    "# install scikit_posthocs using \"!pip install scikit_posthocs\" \n",
    "#import scikit_posthocs\n",
    "\n",
    "\n",
    "# import the functions to perform Chi-square tests\n",
    "from scipy.stats import chi2_contingency\n",
    "from scipy.stats import chi2\n",
    "from scipy.stats import chisquare\n",
    "from scipy.stats import shapiro"
   ]
  },
  {
   "cell_type": "markdown",
   "metadata": {},
   "source": [
    "Data Loading¶"
   ]
  },
  {
   "cell_type": "code",
   "execution_count": 2,
   "metadata": {},
   "outputs": [
    {
     "data": {
      "text/html": [
       "<div>\n",
       "<style scoped>\n",
       "    .dataframe tbody tr th:only-of-type {\n",
       "        vertical-align: middle;\n",
       "    }\n",
       "\n",
       "    .dataframe tbody tr th {\n",
       "        vertical-align: top;\n",
       "    }\n",
       "\n",
       "    .dataframe thead th {\n",
       "        text-align: right;\n",
       "    }\n",
       "</style>\n",
       "<table border=\"1\" class=\"dataframe\">\n",
       "  <thead>\n",
       "    <tr style=\"text-align: right;\">\n",
       "      <th></th>\n",
       "      <th>State/UT</th>\n",
       "      <th>State/UT Code</th>\n",
       "      <th>Region</th>\n",
       "      <th>Fatal2019</th>\n",
       "      <th>Fatal2018</th>\n",
       "      <th>Fatal2017</th>\n",
       "      <th>Fatal2016</th>\n",
       "      <th>Accidents2019 Rank</th>\n",
       "      <th>Accidents2019 Number</th>\n",
       "      <th>Accidents2018</th>\n",
       "      <th>...</th>\n",
       "      <th>Accidents2016</th>\n",
       "      <th>Killed2019 Rank</th>\n",
       "      <th>Killed2019 Number</th>\n",
       "      <th>Killed2018</th>\n",
       "      <th>Killed2017</th>\n",
       "      <th>Killed2016</th>\n",
       "      <th>Injured2019</th>\n",
       "      <th>Injured2018</th>\n",
       "      <th>Injured2017</th>\n",
       "      <th>Injured2016</th>\n",
       "    </tr>\n",
       "  </thead>\n",
       "  <tbody>\n",
       "    <tr>\n",
       "      <th>0</th>\n",
       "      <td>Andhra Pradesh</td>\n",
       "      <td>AP</td>\n",
       "      <td>1.0</td>\n",
       "      <td>2726</td>\n",
       "      <td>2619</td>\n",
       "      <td>3192</td>\n",
       "      <td>3328</td>\n",
       "      <td>9.0</td>\n",
       "      <td>9022</td>\n",
       "      <td>9955</td>\n",
       "      <td>...</td>\n",
       "      <td>11078</td>\n",
       "      <td>9.0</td>\n",
       "      <td>2834</td>\n",
       "      <td>2730</td>\n",
       "      <td>3350</td>\n",
       "      <td>3518</td>\n",
       "      <td>10019</td>\n",
       "      <td>9121</td>\n",
       "      <td>12793</td>\n",
       "      <td>13707</td>\n",
       "    </tr>\n",
       "    <tr>\n",
       "      <th>1</th>\n",
       "      <td>Arunachal Pradesh</td>\n",
       "      <td>AR</td>\n",
       "      <td>6.0</td>\n",
       "      <td>24</td>\n",
       "      <td>46</td>\n",
       "      <td>33</td>\n",
       "      <td>37</td>\n",
       "      <td>33.0</td>\n",
       "      <td>52</td>\n",
       "      <td>94</td>\n",
       "      <td>...</td>\n",
       "      <td>79</td>\n",
       "      <td>28.0</td>\n",
       "      <td>29</td>\n",
       "      <td>61</td>\n",
       "      <td>35</td>\n",
       "      <td>47</td>\n",
       "      <td>54</td>\n",
       "      <td>109</td>\n",
       "      <td>107</td>\n",
       "      <td>148</td>\n",
       "    </tr>\n",
       "    <tr>\n",
       "      <th>2</th>\n",
       "      <td>Assam</td>\n",
       "      <td>AS</td>\n",
       "      <td>6.0</td>\n",
       "      <td>830</td>\n",
       "      <td>716</td>\n",
       "      <td>710</td>\n",
       "      <td>616</td>\n",
       "      <td>18.0</td>\n",
       "      <td>2260</td>\n",
       "      <td>2174</td>\n",
       "      <td>...</td>\n",
       "      <td>1958</td>\n",
       "      <td>19.0</td>\n",
       "      <td>859</td>\n",
       "      <td>744</td>\n",
       "      <td>762</td>\n",
       "      <td>596</td>\n",
       "      <td>1979</td>\n",
       "      <td>1976</td>\n",
       "      <td>1880</td>\n",
       "      <td>1697</td>\n",
       "    </tr>\n",
       "    <tr>\n",
       "      <th>3</th>\n",
       "      <td>Bihar</td>\n",
       "      <td>BR</td>\n",
       "      <td>3.0</td>\n",
       "      <td>2210</td>\n",
       "      <td>2075</td>\n",
       "      <td>1422</td>\n",
       "      <td>1299</td>\n",
       "      <td>16.0</td>\n",
       "      <td>3536</td>\n",
       "      <td>3495</td>\n",
       "      <td>...</td>\n",
       "      <td>2650</td>\n",
       "      <td>11.0</td>\n",
       "      <td>2320</td>\n",
       "      <td>2204</td>\n",
       "      <td>1600</td>\n",
       "      <td>1451</td>\n",
       "      <td>2282</td>\n",
       "      <td>2455</td>\n",
       "      <td>1966</td>\n",
       "      <td>1954</td>\n",
       "    </tr>\n",
       "    <tr>\n",
       "      <th>4</th>\n",
       "      <td>Chhattisgarh</td>\n",
       "      <td>CG</td>\n",
       "      <td>5.0</td>\n",
       "      <td>2251</td>\n",
       "      <td>2049</td>\n",
       "      <td>1836</td>\n",
       "      <td>1622</td>\n",
       "      <td>11.0</td>\n",
       "      <td>7078</td>\n",
       "      <td>6733</td>\n",
       "      <td>...</td>\n",
       "      <td>6374</td>\n",
       "      <td>10.0</td>\n",
       "      <td>2416</td>\n",
       "      <td>2140</td>\n",
       "      <td>2020</td>\n",
       "      <td>1801</td>\n",
       "      <td>6643</td>\n",
       "      <td>6257</td>\n",
       "      <td>6027</td>\n",
       "      <td>5954</td>\n",
       "    </tr>\n",
       "  </tbody>\n",
       "</table>\n",
       "<p>5 rows × 21 columns</p>\n",
       "</div>"
      ],
      "text/plain": [
       "            State/UT State/UT Code  Region  Fatal2019  Fatal2018  Fatal2017  \\\n",
       "0     Andhra Pradesh            AP     1.0       2726       2619       3192   \n",
       "1  Arunachal Pradesh            AR     6.0         24         46         33   \n",
       "2              Assam            AS     6.0        830        716        710   \n",
       "3              Bihar            BR     3.0       2210       2075       1422   \n",
       "4       Chhattisgarh            CG     5.0       2251       2049       1836   \n",
       "\n",
       "   Fatal2016  Accidents2019 Rank  Accidents2019 Number  Accidents2018  ...  \\\n",
       "0       3328                 9.0                  9022           9955  ...   \n",
       "1         37                33.0                    52             94  ...   \n",
       "2        616                18.0                  2260           2174  ...   \n",
       "3       1299                16.0                  3536           3495  ...   \n",
       "4       1622                11.0                  7078           6733  ...   \n",
       "\n",
       "   Accidents2016  Killed2019 Rank  Killed2019 Number  Killed2018  Killed2017  \\\n",
       "0          11078              9.0               2834        2730        3350   \n",
       "1             79             28.0                 29          61          35   \n",
       "2           1958             19.0                859         744         762   \n",
       "3           2650             11.0               2320        2204        1600   \n",
       "4           6374             10.0               2416        2140        2020   \n",
       "\n",
       "   Killed2016  Injured2019  Injured2018  Injured2017  Injured2016  \n",
       "0        3518        10019         9121        12793        13707  \n",
       "1          47           54          109          107          148  \n",
       "2         596         1979         1976         1880         1697  \n",
       "3        1451         2282         2455         1966         1954  \n",
       "4        1801         6643         6257         6027         5954  \n",
       "\n",
       "[5 rows x 21 columns]"
      ]
     },
     "execution_count": 2,
     "metadata": {},
     "output_type": "execute_result"
    }
   ],
   "source": [
    "#load CSV File\n",
    "df=pd.read_csv(\"Accident data 2016_2019.csv\")\n",
    "df.head()\n"
   ]
  },
  {
   "cell_type": "code",
   "execution_count": 4,
   "metadata": {},
   "outputs": [
    {
     "data": {
      "text/html": [
       "<div>\n",
       "<style scoped>\n",
       "    .dataframe tbody tr th:only-of-type {\n",
       "        vertical-align: middle;\n",
       "    }\n",
       "\n",
       "    .dataframe tbody tr th {\n",
       "        vertical-align: top;\n",
       "    }\n",
       "\n",
       "    .dataframe thead th {\n",
       "        text-align: right;\n",
       "    }\n",
       "</style>\n",
       "<table border=\"1\" class=\"dataframe\">\n",
       "  <thead>\n",
       "    <tr style=\"text-align: right;\">\n",
       "      <th></th>\n",
       "      <th>Region</th>\n",
       "      <th>Fatal2019</th>\n",
       "      <th>Fatal2018</th>\n",
       "      <th>Fatal2017</th>\n",
       "      <th>Fatal2016</th>\n",
       "      <th>Accidents2019 Rank</th>\n",
       "      <th>Accidents2019 Number</th>\n",
       "      <th>Accidents2018</th>\n",
       "      <th>Accidents2017</th>\n",
       "      <th>Accidents2016</th>\n",
       "      <th>Killed2019 Rank</th>\n",
       "      <th>Killed2019 Number</th>\n",
       "      <th>Killed2018</th>\n",
       "      <th>Killed2017</th>\n",
       "      <th>Killed2016</th>\n",
       "      <th>Injured2019</th>\n",
       "      <th>Injured2018</th>\n",
       "      <th>Injured2017</th>\n",
       "      <th>Injured2016</th>\n",
       "    </tr>\n",
       "  </thead>\n",
       "  <tbody>\n",
       "    <tr>\n",
       "      <th>count</th>\n",
       "      <td>36.000000</td>\n",
       "      <td>37.000000</td>\n",
       "      <td>37.000000</td>\n",
       "      <td>37.000000</td>\n",
       "      <td>37.000000</td>\n",
       "      <td>36.000000</td>\n",
       "      <td>37.000000</td>\n",
       "      <td>37.000000</td>\n",
       "      <td>37.000000</td>\n",
       "      <td>37.000000</td>\n",
       "      <td>36.000000</td>\n",
       "      <td>37.000000</td>\n",
       "      <td>37.000000</td>\n",
       "      <td>37.000000</td>\n",
       "      <td>37.000000</td>\n",
       "      <td>37.000000</td>\n",
       "      <td>37.000000</td>\n",
       "      <td>37.000000</td>\n",
       "      <td>37.000000</td>\n",
       "    </tr>\n",
       "    <tr>\n",
       "      <th>mean</th>\n",
       "      <td>3.361111</td>\n",
       "      <td>2942.702703</td>\n",
       "      <td>2851.189189</td>\n",
       "      <td>2788.432432</td>\n",
       "      <td>2819.891892</td>\n",
       "      <td>18.500000</td>\n",
       "      <td>10964.054054</td>\n",
       "      <td>11277.351351</td>\n",
       "      <td>11204.648649</td>\n",
       "      <td>11710.162162</td>\n",
       "      <td>18.472222</td>\n",
       "      <td>3176.702703</td>\n",
       "      <td>3069.783784</td>\n",
       "      <td>2968.648649</td>\n",
       "      <td>3061.783784</td>\n",
       "      <td>10917.891892</td>\n",
       "      <td>11200.918919</td>\n",
       "      <td>11284.918919</td>\n",
       "      <td>11938.810811</td>\n",
       "    </tr>\n",
       "    <tr>\n",
       "      <th>std</th>\n",
       "      <td>1.759103</td>\n",
       "      <td>8868.741145</td>\n",
       "      <td>8590.493799</td>\n",
       "      <td>8408.275958</td>\n",
       "      <td>8502.177962</td>\n",
       "      <td>10.535654</td>\n",
       "      <td>33241.829841</td>\n",
       "      <td>34181.140475</td>\n",
       "      <td>33981.301403</td>\n",
       "      <td>35539.753992</td>\n",
       "      <td>10.492136</td>\n",
       "      <td>9577.708561</td>\n",
       "      <td>9251.801702</td>\n",
       "      <td>8953.338729</td>\n",
       "      <td>9230.858592</td>\n",
       "      <td>33207.409452</td>\n",
       "      <td>34055.523876</td>\n",
       "      <td>34331.619058</td>\n",
       "      <td>36312.520686</td>\n",
       "    </tr>\n",
       "    <tr>\n",
       "      <th>min</th>\n",
       "      <td>1.000000</td>\n",
       "      <td>0.000000</td>\n",
       "      <td>1.000000</td>\n",
       "      <td>0.000000</td>\n",
       "      <td>1.000000</td>\n",
       "      <td>1.000000</td>\n",
       "      <td>1.000000</td>\n",
       "      <td>3.000000</td>\n",
       "      <td>1.000000</td>\n",
       "      <td>1.000000</td>\n",
       "      <td>1.000000</td>\n",
       "      <td>0.000000</td>\n",
       "      <td>1.000000</td>\n",
       "      <td>0.000000</td>\n",
       "      <td>1.000000</td>\n",
       "      <td>1.000000</td>\n",
       "      <td>3.000000</td>\n",
       "      <td>1.000000</td>\n",
       "      <td>0.000000</td>\n",
       "    </tr>\n",
       "    <tr>\n",
       "      <th>25%</th>\n",
       "      <td>2.000000</td>\n",
       "      <td>38.000000</td>\n",
       "      <td>62.000000</td>\n",
       "      <td>33.000000</td>\n",
       "      <td>44.000000</td>\n",
       "      <td>9.750000</td>\n",
       "      <td>107.000000</td>\n",
       "      <td>178.000000</td>\n",
       "      <td>99.000000</td>\n",
       "      <td>137.000000</td>\n",
       "      <td>9.750000</td>\n",
       "      <td>45.000000</td>\n",
       "      <td>64.000000</td>\n",
       "      <td>35.000000</td>\n",
       "      <td>46.000000</td>\n",
       "      <td>126.000000</td>\n",
       "      <td>167.000000</td>\n",
       "      <td>118.000000</td>\n",
       "      <td>162.000000</td>\n",
       "    </tr>\n",
       "    <tr>\n",
       "      <th>50%</th>\n",
       "      <td>3.000000</td>\n",
       "      <td>1058.000000</td>\n",
       "      <td>1171.000000</td>\n",
       "      <td>945.000000</td>\n",
       "      <td>633.000000</td>\n",
       "      <td>18.500000</td>\n",
       "      <td>2260.000000</td>\n",
       "      <td>2174.000000</td>\n",
       "      <td>2277.000000</td>\n",
       "      <td>2650.000000</td>\n",
       "      <td>18.500000</td>\n",
       "      <td>1185.000000</td>\n",
       "      <td>1237.000000</td>\n",
       "      <td>971.000000</td>\n",
       "      <td>823.000000</td>\n",
       "      <td>1979.000000</td>\n",
       "      <td>1976.000000</td>\n",
       "      <td>1880.000000</td>\n",
       "      <td>1811.000000</td>\n",
       "    </tr>\n",
       "    <tr>\n",
       "      <th>75%</th>\n",
       "      <td>4.250000</td>\n",
       "      <td>2726.000000</td>\n",
       "      <td>2619.000000</td>\n",
       "      <td>2673.000000</td>\n",
       "      <td>2975.000000</td>\n",
       "      <td>27.250000</td>\n",
       "      <td>9022.000000</td>\n",
       "      <td>9955.000000</td>\n",
       "      <td>11526.000000</td>\n",
       "      <td>10933.000000</td>\n",
       "      <td>27.250000</td>\n",
       "      <td>2834.000000</td>\n",
       "      <td>2730.000000</td>\n",
       "      <td>2768.000000</td>\n",
       "      <td>3207.000000</td>\n",
       "      <td>8760.000000</td>\n",
       "      <td>9121.000000</td>\n",
       "      <td>9039.000000</td>\n",
       "      <td>9857.000000</td>\n",
       "    </tr>\n",
       "    <tr>\n",
       "      <th>max</th>\n",
       "      <td>6.000000</td>\n",
       "      <td>54440.000000</td>\n",
       "      <td>52747.000000</td>\n",
       "      <td>51586.000000</td>\n",
       "      <td>52168.000000</td>\n",
       "      <td>36.000000</td>\n",
       "      <td>202835.000000</td>\n",
       "      <td>208631.000000</td>\n",
       "      <td>207286.000000</td>\n",
       "      <td>216638.000000</td>\n",
       "      <td>36.000000</td>\n",
       "      <td>58769.000000</td>\n",
       "      <td>56791.000000</td>\n",
       "      <td>54920.000000</td>\n",
       "      <td>56643.000000</td>\n",
       "      <td>201981.000000</td>\n",
       "      <td>207217.000000</td>\n",
       "      <td>208771.000000</td>\n",
       "      <td>220868.000000</td>\n",
       "    </tr>\n",
       "  </tbody>\n",
       "</table>\n",
       "</div>"
      ],
      "text/plain": [
       "          Region     Fatal2019     Fatal2018     Fatal2017     Fatal2016  \\\n",
       "count  36.000000     37.000000     37.000000     37.000000     37.000000   \n",
       "mean    3.361111   2942.702703   2851.189189   2788.432432   2819.891892   \n",
       "std     1.759103   8868.741145   8590.493799   8408.275958   8502.177962   \n",
       "min     1.000000      0.000000      1.000000      0.000000      1.000000   \n",
       "25%     2.000000     38.000000     62.000000     33.000000     44.000000   \n",
       "50%     3.000000   1058.000000   1171.000000    945.000000    633.000000   \n",
       "75%     4.250000   2726.000000   2619.000000   2673.000000   2975.000000   \n",
       "max     6.000000  54440.000000  52747.000000  51586.000000  52168.000000   \n",
       "\n",
       "       Accidents2019 Rank  Accidents2019 Number  Accidents2018  Accidents2017  \\\n",
       "count           36.000000             37.000000      37.000000      37.000000   \n",
       "mean            18.500000          10964.054054   11277.351351   11204.648649   \n",
       "std             10.535654          33241.829841   34181.140475   33981.301403   \n",
       "min              1.000000              1.000000       3.000000       1.000000   \n",
       "25%              9.750000            107.000000     178.000000      99.000000   \n",
       "50%             18.500000           2260.000000    2174.000000    2277.000000   \n",
       "75%             27.250000           9022.000000    9955.000000   11526.000000   \n",
       "max             36.000000         202835.000000  208631.000000  207286.000000   \n",
       "\n",
       "       Accidents2016  Killed2019 Rank  Killed2019 Number    Killed2018  \\\n",
       "count      37.000000        36.000000          37.000000     37.000000   \n",
       "mean    11710.162162        18.472222        3176.702703   3069.783784   \n",
       "std     35539.753992        10.492136        9577.708561   9251.801702   \n",
       "min         1.000000         1.000000           0.000000      1.000000   \n",
       "25%       137.000000         9.750000          45.000000     64.000000   \n",
       "50%      2650.000000        18.500000        1185.000000   1237.000000   \n",
       "75%     10933.000000        27.250000        2834.000000   2730.000000   \n",
       "max    216638.000000        36.000000       58769.000000  56791.000000   \n",
       "\n",
       "         Killed2017    Killed2016    Injured2019    Injured2018  \\\n",
       "count     37.000000     37.000000      37.000000      37.000000   \n",
       "mean    2968.648649   3061.783784   10917.891892   11200.918919   \n",
       "std     8953.338729   9230.858592   33207.409452   34055.523876   \n",
       "min        0.000000      1.000000       1.000000       3.000000   \n",
       "25%       35.000000     46.000000     126.000000     167.000000   \n",
       "50%      971.000000    823.000000    1979.000000    1976.000000   \n",
       "75%     2768.000000   3207.000000    8760.000000    9121.000000   \n",
       "max    54920.000000  56643.000000  201981.000000  207217.000000   \n",
       "\n",
       "         Injured2017    Injured2016  \n",
       "count      37.000000      37.000000  \n",
       "mean    11284.918919   11938.810811  \n",
       "std     34331.619058   36312.520686  \n",
       "min         1.000000       0.000000  \n",
       "25%       118.000000     162.000000  \n",
       "50%      1880.000000    1811.000000  \n",
       "75%      9039.000000    9857.000000  \n",
       "max    208771.000000  220868.000000  "
      ]
     },
     "execution_count": 4,
     "metadata": {},
     "output_type": "execute_result"
    }
   ],
   "source": [
    "df.describe()"
   ]
  },
  {
   "cell_type": "code",
   "execution_count": 16,
   "metadata": {},
   "outputs": [
    {
     "data": {
      "text/html": [
       "<div>\n",
       "<style scoped>\n",
       "    .dataframe tbody tr th:only-of-type {\n",
       "        vertical-align: middle;\n",
       "    }\n",
       "\n",
       "    .dataframe tbody tr th {\n",
       "        vertical-align: top;\n",
       "    }\n",
       "\n",
       "    .dataframe thead th {\n",
       "        text-align: right;\n",
       "    }\n",
       "</style>\n",
       "<table border=\"1\" class=\"dataframe\">\n",
       "  <thead>\n",
       "    <tr style=\"text-align: right;\">\n",
       "      <th></th>\n",
       "      <th>Fatal2016</th>\n",
       "      <th>Accidents2019 Rank</th>\n",
       "      <th>Accidents2019 Number</th>\n",
       "      <th>Accidents2018</th>\n",
       "      <th>Accidents2017</th>\n",
       "    </tr>\n",
       "  </thead>\n",
       "  <tbody>\n",
       "    <tr>\n",
       "      <th>0</th>\n",
       "      <td>3328</td>\n",
       "      <td>9.0</td>\n",
       "      <td>9022</td>\n",
       "      <td>9955</td>\n",
       "      <td>11526</td>\n",
       "    </tr>\n",
       "    <tr>\n",
       "      <th>1</th>\n",
       "      <td>37</td>\n",
       "      <td>33.0</td>\n",
       "      <td>52</td>\n",
       "      <td>94</td>\n",
       "      <td>83</td>\n",
       "    </tr>\n",
       "    <tr>\n",
       "      <th>2</th>\n",
       "      <td>616</td>\n",
       "      <td>18.0</td>\n",
       "      <td>2260</td>\n",
       "      <td>2174</td>\n",
       "      <td>2277</td>\n",
       "    </tr>\n",
       "    <tr>\n",
       "      <th>3</th>\n",
       "      <td>1299</td>\n",
       "      <td>16.0</td>\n",
       "      <td>3536</td>\n",
       "      <td>3495</td>\n",
       "      <td>2714</td>\n",
       "    </tr>\n",
       "    <tr>\n",
       "      <th>4</th>\n",
       "      <td>1622</td>\n",
       "      <td>11.0</td>\n",
       "      <td>7078</td>\n",
       "      <td>6733</td>\n",
       "      <td>6483</td>\n",
       "    </tr>\n",
       "  </tbody>\n",
       "</table>\n",
       "</div>"
      ],
      "text/plain": [
       "   Fatal2016  Accidents2019 Rank  Accidents2019 Number  Accidents2018  \\\n",
       "0       3328                 9.0                  9022           9955   \n",
       "1         37                33.0                    52             94   \n",
       "2        616                18.0                  2260           2174   \n",
       "3       1299                16.0                  3536           3495   \n",
       "4       1622                11.0                  7078           6733   \n",
       "\n",
       "   Accidents2017  \n",
       "0          11526  \n",
       "1             83  \n",
       "2           2277  \n",
       "3           2714  \n",
       "4           6483  "
      ]
     },
     "execution_count": 16,
     "metadata": {},
     "output_type": "execute_result"
    }
   ],
   "source": [
    "df_fatal = df.iloc[:,[6,7,8,9,10]]\n",
    "df_fatal.head()"
   ]
  },
  {
   "cell_type": "code",
   "execution_count": 6,
   "metadata": {},
   "outputs": [
    {
     "data": {
      "text/plain": [
       "<seaborn.axisgrid.PairGrid at 0x1b1bfdd6f48>"
      ]
     },
     "execution_count": 6,
     "metadata": {},
     "output_type": "execute_result"
    },
    {
     "data": {
      "image/png": "[encoded data removed]",
      "text/plain": [
       "<Figure size 900x900 with 30 Axes>"
      ]
     },
     "metadata": {
      "needs_background": "light"
     },
     "output_type": "display_data"
    }
   ],
   "source": [
    "sns.pairplot(df_fatal)"
   ]
  },
  {
   "cell_type": "code",
   "execution_count": 7,
   "metadata": {},
   "outputs": [],
   "source": [
    "#.lineplot(data = df_fatal, x = \"Fatal2019\",y=\"State/UT\")"
   ]
  },
  {
   "cell_type": "code",
   "execution_count": 8,
   "metadata": {},
   "outputs": [
    {
     "data": {
      "text/plain": [
       "<matplotlib.axes._subplots.AxesSubplot at 0x1b1c6a38d08>"
      ]
     },
     "execution_count": 8,
     "metadata": {},
     "output_type": "execute_result"
    },
    {
     "data": {
      "image/png": "[encoded data removed]",
      "text/plain": [
       "<Figure size 432x288 with 1 Axes>"
      ]
     },
     "metadata": {
      "needs_background": "light"
     },
     "output_type": "display_data"
    }
   ],
   "source": [
    "sns.barplot(x =\"State/UT Code\",y=\"Fatal2019\",data=df)"
   ]
  },
  {
   "cell_type": "code",
   "execution_count": 9,
   "metadata": {},
   "outputs": [
    {
     "data": {
      "text/plain": [
       "0    2726\n",
       "1      24\n",
       "2     830\n",
       "3    2210\n",
       "4    2251\n",
       "Name: Fatal2019, dtype: int64"
      ]
     },
     "execution_count": 9,
     "metadata": {},
     "output_type": "execute_result"
    }
   ],
   "source": [
    "y = df['Fatal2019'].iloc[0:36]\n",
    "y.head()"
   ]
  },
  {
   "cell_type": "code",
   "execution_count": 10,
   "metadata": {},
   "outputs": [
    {
     "data": {
      "text/plain": [
       "0    AP\n",
       "1    AR\n",
       "2    AS\n",
       "3    BR\n",
       "4    CG\n",
       "Name: State/UT Code, dtype: object"
      ]
     },
     "execution_count": 10,
     "metadata": {},
     "output_type": "execute_result"
    }
   ],
   "source": [
    "x = df['State/UT Code'].iloc[0:36]\n",
    "x.head()"
   ]
  },
  {
   "cell_type": "code",
   "execution_count": 11,
   "metadata": {},
   "outputs": [
    {
     "data": {
      "image/png": "[encoded data removed]",
      "text/plain": [
       "<Figure size 432x288 with 1 Axes>"
      ]
     },
     "metadata": {
      "needs_background": "light"
     },
     "output_type": "display_data"
    },
    {
     "data": {
      "text/plain": [
       "<Figure size 1440x720 with 0 Axes>"
      ]
     },
     "metadata": {},
     "output_type": "display_data"
    },
    {
     "data": {
      "text/plain": [
       "<Figure size 720x720 with 0 Axes>"
      ]
     },
     "metadata": {},
     "output_type": "display_data"
    }
   ],
   "source": [
    "# print(x)\n",
    "# print(y)\n",
    "plt.plot(x,y)\n",
    "plt.figure(figsize=(20,10))\n",
    "f = plt.figure() \n",
    "f.set_figwidth(10) \n",
    "f.set_figheight(10) \n",
    "plt.show()"
   ]
  },
  {
   "cell_type": "code",
   "execution_count": 12,
   "metadata": {},
   "outputs": [],
   "source": [
    "# x1= df_fatal.sort_values(df['Fatal2019'],ascending=(True)).tail(15)\n",
    "# x2= df_fatal.sort_values(df[\"Fatal2019\"],ascending = True).head(15)\n",
    "# x1\n",
    "# x2"
   ]
  },
  {
   "cell_type": "code",
   "execution_count": 13,
   "metadata": {},
   "outputs": [
    {
     "ename": "ValueError",
     "evalue": "Could not interpret input 'State/UT Code'",
     "output_type": "error",
     "traceback": [
      "\u001b[1;31m---------------------------------------------------------------------------\u001b[0m",
      "\u001b[1;31mValueError\u001b[0m                                Traceback (most recent call last)",
      "\u001b[1;32m<ipython-input-13-62ad6b231d07>\u001b[0m in \u001b[0;36m<module>\u001b[1;34m\u001b[0m\n\u001b[1;32m----> 1\u001b[1;33m \u001b[0msns\u001b[0m\u001b[1;33m.\u001b[0m\u001b[0mbarplot\u001b[0m\u001b[1;33m(\u001b[0m\u001b[0mx\u001b[0m \u001b[1;33m=\u001b[0m\u001b[1;34m\"State/UT Code\"\u001b[0m\u001b[1;33m,\u001b[0m\u001b[0my\u001b[0m\u001b[1;33m=\u001b[0m\u001b[1;34m\"Fatal2019\"\u001b[0m\u001b[1;33m,\u001b[0m\u001b[0mdata\u001b[0m\u001b[1;33m=\u001b[0m\u001b[0mx\u001b[0m\u001b[1;33m)\u001b[0m\u001b[1;33m\u001b[0m\u001b[1;33m\u001b[0m\u001b[0m\n\u001b[0m",
      "\u001b[1;32m~\\anaconda3\\lib\\site-packages\\seaborn\\categorical.py\u001b[0m in \u001b[0;36mbarplot\u001b[1;34m(x, y, hue, data, order, hue_order, estimator, ci, n_boot, units, seed, orient, color, palette, saturation, errcolor, errwidth, capsize, dodge, ax, **kwargs)\u001b[0m\n\u001b[0;32m   3148\u001b[0m                           \u001b[0mestimator\u001b[0m\u001b[1;33m,\u001b[0m \u001b[0mci\u001b[0m\u001b[1;33m,\u001b[0m \u001b[0mn_boot\u001b[0m\u001b[1;33m,\u001b[0m \u001b[0munits\u001b[0m\u001b[1;33m,\u001b[0m \u001b[0mseed\u001b[0m\u001b[1;33m,\u001b[0m\u001b[1;33m\u001b[0m\u001b[1;33m\u001b[0m\u001b[0m\n\u001b[0;32m   3149\u001b[0m                           \u001b[0morient\u001b[0m\u001b[1;33m,\u001b[0m \u001b[0mcolor\u001b[0m\u001b[1;33m,\u001b[0m \u001b[0mpalette\u001b[0m\u001b[1;33m,\u001b[0m \u001b[0msaturation\u001b[0m\u001b[1;33m,\u001b[0m\u001b[1;33m\u001b[0m\u001b[1;33m\u001b[0m\u001b[0m\n\u001b[1;32m-> 3150\u001b[1;33m                           errcolor, errwidth, capsize, dodge)\n\u001b[0m\u001b[0;32m   3151\u001b[0m \u001b[1;33m\u001b[0m\u001b[0m\n\u001b[0;32m   3152\u001b[0m     \u001b[1;32mif\u001b[0m \u001b[0max\u001b[0m \u001b[1;32mis\u001b[0m \u001b[1;32mNone\u001b[0m\u001b[1;33m:\u001b[0m\u001b[1;33m\u001b[0m\u001b[1;33m\u001b[0m\u001b[0m\n",
      "\u001b[1;32m~\\anaconda3\\lib\\site-packages\\seaborn\\categorical.py\u001b[0m in \u001b[0;36m__init__\u001b[1;34m(self, x, y, hue, data, order, hue_order, estimator, ci, n_boot, units, seed, orient, color, palette, saturation, errcolor, errwidth, capsize, dodge)\u001b[0m\n\u001b[0;32m   1613\u001b[0m         \u001b[1;34m\"\"\"Initialize the plotter.\"\"\"\u001b[0m\u001b[1;33m\u001b[0m\u001b[1;33m\u001b[0m\u001b[0m\n\u001b[0;32m   1614\u001b[0m         self.establish_variables(x, y, hue, data, orient,\n\u001b[1;32m-> 1615\u001b[1;33m                                  order, hue_order, units)\n\u001b[0m\u001b[0;32m   1616\u001b[0m         \u001b[0mself\u001b[0m\u001b[1;33m.\u001b[0m\u001b[0mestablish_colors\u001b[0m\u001b[1;33m(\u001b[0m\u001b[0mcolor\u001b[0m\u001b[1;33m,\u001b[0m \u001b[0mpalette\u001b[0m\u001b[1;33m,\u001b[0m \u001b[0msaturation\u001b[0m\u001b[1;33m)\u001b[0m\u001b[1;33m\u001b[0m\u001b[1;33m\u001b[0m\u001b[0m\n\u001b[0;32m   1617\u001b[0m         \u001b[0mself\u001b[0m\u001b[1;33m.\u001b[0m\u001b[0mestimate_statistic\u001b[0m\u001b[1;33m(\u001b[0m\u001b[0mestimator\u001b[0m\u001b[1;33m,\u001b[0m \u001b[0mci\u001b[0m\u001b[1;33m,\u001b[0m \u001b[0mn_boot\u001b[0m\u001b[1;33m,\u001b[0m \u001b[0mseed\u001b[0m\u001b[1;33m)\u001b[0m\u001b[1;33m\u001b[0m\u001b[1;33m\u001b[0m\u001b[0m\n",
      "\u001b[1;32m~\\anaconda3\\lib\\site-packages\\seaborn\\categorical.py\u001b[0m in \u001b[0;36mestablish_variables\u001b[1;34m(self, x, y, hue, data, orient, order, hue_order, units)\u001b[0m\n\u001b[0;32m    150\u001b[0m                 \u001b[1;32mif\u001b[0m \u001b[0misinstance\u001b[0m\u001b[1;33m(\u001b[0m\u001b[0mvar\u001b[0m\u001b[1;33m,\u001b[0m \u001b[0mstr\u001b[0m\u001b[1;33m)\u001b[0m\u001b[1;33m:\u001b[0m\u001b[1;33m\u001b[0m\u001b[1;33m\u001b[0m\u001b[0m\n\u001b[0;32m    151\u001b[0m                     \u001b[0merr\u001b[0m \u001b[1;33m=\u001b[0m \u001b[1;34m\"Could not interpret input '{}'\"\u001b[0m\u001b[1;33m.\u001b[0m\u001b[0mformat\u001b[0m\u001b[1;33m(\u001b[0m\u001b[0mvar\u001b[0m\u001b[1;33m)\u001b[0m\u001b[1;33m\u001b[0m\u001b[1;33m\u001b[0m\u001b[0m\n\u001b[1;32m--> 152\u001b[1;33m                     \u001b[1;32mraise\u001b[0m \u001b[0mValueError\u001b[0m\u001b[1;33m(\u001b[0m\u001b[0merr\u001b[0m\u001b[1;33m)\u001b[0m\u001b[1;33m\u001b[0m\u001b[1;33m\u001b[0m\u001b[0m\n\u001b[0m\u001b[0;32m    153\u001b[0m \u001b[1;33m\u001b[0m\u001b[0m\n\u001b[0;32m    154\u001b[0m             \u001b[1;31m# Figure out the plotting orientation\u001b[0m\u001b[1;33m\u001b[0m\u001b[1;33m\u001b[0m\u001b[1;33m\u001b[0m\u001b[0m\n",
      "\u001b[1;31mValueError\u001b[0m: Could not interpret input 'State/UT Code'"
     ]
    }
   ],
   "source": [
    "sns.barplot(x =\"State/UT Code\",y=\"Fatal2019\",data=x)"
   ]
  },
  {
   "cell_type": "code",
   "execution_count": null,
   "metadata": {},
   "outputs": [],
   "source": [
    "sns.barplot(x= \"State/UT Code\", y= \"Fatal2019\", data=x1)"
   ]
  },
  {
   "cell_type": "code",
   "execution_count": null,
   "metadata": {},
   "outputs": [],
   "source": [
    "#Numerical columns\n",
    "df_acc=df.iloc[:,[1,6,7,8,9,10,11]]\n",
    "df_acc.head()"
   ]
  },
  {
   "cell_type": "code",
   "execution_count": null,
   "metadata": {},
   "outputs": [],
   "source": [
    "#Description of numerical columns\n",
    "df_acc.describe()"
   ]
  },
  {
   "cell_type": "code",
   "execution_count": null,
   "metadata": {},
   "outputs": [],
   "source": [
    "x3= df_acc.sort_values([\"Accidents2019 Rank\"],ascending= True).head(10)\n",
    "x3\n",
    "sns.barplot(x=\"State/UT Code\", y =\"Accidents2019 Rank\", data= x3)"
   ]
  },
  {
   "cell_type": "code",
   "execution_count": null,
   "metadata": {},
   "outputs": [],
   "source": [
    "df_acc.mean()"
   ]
  },
  {
   "cell_type": "code",
   "execution_count": null,
   "metadata": {},
   "outputs": [],
   "source": [
    "df_acc.var()"
   ]
  },
  {
   "cell_type": "code",
   "execution_count": null,
   "metadata": {},
   "outputs": [],
   "source": [
    "df_acc.skew()"
   ]
  },
  {
   "cell_type": "code",
   "execution_count": null,
   "metadata": {},
   "outputs": [],
   "source": [
    "df_acc.kurt()"
   ]
  },
  {
   "cell_type": "code",
   "execution_count": null,
   "metadata": {},
   "outputs": [],
   "source": [
    "df_acc.corr()"
   ]
  },
  {
   "cell_type": "code",
   "execution_count": null,
   "metadata": {},
   "outputs": [],
   "source": [
    "sns.heatmap(df_acc.corr())"
   ]
  },
  {
   "cell_type": "code",
   "execution_count": null,
   "metadata": {},
   "outputs": [],
   "source": [
    "from scipy.stats import shapiro"
   ]
  },
  {
   "cell_type": "code",
   "execution_count": null,
   "metadata": {},
   "outputs": [],
   "source": [
    "df_acc[\"Accidents2019 Number\"]\n",
    "stat, p_value = shapiro(df_acc[\"Accidents2019 Number\"])\n",
    "\n",
    "# # print the test statistic and corresponding p-value \n",
    "print('Test statistic:', stat)\n",
    "print('P-Value:', p_value)\n",
    "if p_value > 0.05 : \n",
    "    print('Accident data of 2019 is normally distributed')\n",
    "else  :\n",
    "    print('Accident data of 2019 is not normally distributed')"
   ]
  },
  {
   "cell_type": "code",
   "execution_count": null,
   "metadata": {},
   "outputs": [],
   "source": [
    "df_acc.head()"
   ]
  },
  {
   "cell_type": "code",
   "execution_count": null,
   "metadata": {},
   "outputs": [],
   "source": [
    "#  df_acc.State/UT Code.valueCounts()\n",
    "df_acc.columns\n",
    "#df_acc['State/UT Code'].value_counts()"
   ]
  },
  {
   "cell_type": "raw",
   "metadata": {},
   "source": [
    "Null Hypothesis ==> number of accidents in 2019 are less than the number of accidents in 2018\n",
    "Alternate Hypothesis ==> number of accidents in 2019 are more than the number of accidents in 2018\n",
    "\n",
    "Here we will use  Mann-Whitney U Test as non parametric test as the data is not normal"
   ]
  },
  {
   "cell_type": "code",
   "execution_count": null,
   "metadata": {},
   "outputs": [],
   "source": [
    "df_acc_2019 = df_acc['Accidents2019 Number']\n",
    "df_acc_2019_sum  = df_acc['Accidents2019 Number'].sum()\n",
    "df_acc_2019_sum"
   ]
  },
  {
   "cell_type": "code",
   "execution_count": null,
   "metadata": {},
   "outputs": [],
   "source": [
    "df_acc_2018 = df_acc['Accidents2018']\n",
    "df_acc_2018_sum  = df_acc['Accidents2018'].sum()\n",
    "df_acc_2018_sum"
   ]
  },
  {
   "cell_type": "raw",
   "metadata": {},
   "source": [
    "# average number of accident in 2019 is < total number of accident in 2018"
   ]
  },
  {
   "cell_type": "code",
   "execution_count": null,
   "metadata": {},
   "outputs": [],
   "source": [
    "# lets first check the shapiro test for both distributions\n",
    "# Shapiro test for 2019 accident data\n",
    "stat, p_value = shapiro(df_acc_2019)\n",
    "\n",
    "# # print the test statistic and corresponding p-value \n",
    "print('Test statistic:', stat)\n",
    "print('P-Value:', p_value)\n",
    "if p_value > 0.05 : \n",
    "    print('Accident data of 2019 is normally distributed')\n",
    "else  :\n",
    "    print('Accident data of 2019 is not normally distributed')"
   ]
  },
  {
   "cell_type": "code",
   "execution_count": null,
   "metadata": {},
   "outputs": [],
   "source": [
    "# lets first check the shapiro test for both distributions\n",
    "# Shapiro test for 2018 accident data\n",
    "stat, p_value = shapiro(df_acc_2018)\n",
    "\n",
    "# # print the test statistic and corresponding p-value \n",
    "print('Test statistic:', stat)\n",
    "print('P-Value:', p_value)\n",
    "if p_value > 0.05 : \n",
    "    print('Accident data of 2019 is normally distributed')\n",
    "else  :\n",
    "    print('Accident data of 2019 is not normally distributed')"
   ]
  },
  {
   "cell_type": "code",
   "execution_count": null,
   "metadata": {},
   "outputs": [],
   "source": [
    "# from above we observe that both distributions are not normally distirbuted\n",
    "# hence we go for non parametric test that is unpaired T test \n",
    "\n",
    "# compute test statistic and corresponding p-value for one-tailed test\n",
    "test_stat, p_value = stats.mannwhitneyu(df_acc_2018, df_acc_2019, alternative = 'less')\n",
    "\n",
    "# print the test statistic and corresponding p-value\n",
    "print('Test statistic:', test_stat)\n",
    "print('p-value:', p_value)"
   ]
  },
  {
   "cell_type": "raw",
   "metadata": {},
   "source": [
    "here p value is greater than 0.05 hence we can not reject null hypothesis that Accident in year 2019 are lesser than year 2018 "
   ]
  },
  {
   "cell_type": "raw",
   "metadata": {},
   "source": [
    "Same Test for year 2016 and year 2017: \n",
    "Null Hypothesis : accidents are less in 2017 than year 2016\n",
    "Alternative Hypothesis : accidents are more in 2017 than year 2016"
   ]
  },
  {
   "cell_type": "code",
   "execution_count": null,
   "metadata": {},
   "outputs": [],
   "source": [
    "df_acc_2016 = df_acc['Accidents2016']\n",
    "df_acc_2016_sum  = df_acc['Accidents2016'].sum()\n",
    "df_acc_2016_sum"
   ]
  },
  {
   "cell_type": "code",
   "execution_count": null,
   "metadata": {},
   "outputs": [],
   "source": [
    "df_acc_2017 = df_acc['Accidents2017']\n",
    "df_acc_2017_sum  = df_acc['Accidents2017'].sum()\n",
    "df_acc_2017_sum"
   ]
  },
  {
   "cell_type": "code",
   "execution_count": null,
   "metadata": {},
   "outputs": [],
   "source": [
    "# lets first check the shapiro test for both distributions\n",
    "# Shapiro test for 2019 accident data\n",
    "stat, p_value = shapiro(df_acc_2016)\n",
    "\n",
    "# # print the test statistic and corresponding p-value \n",
    "print('Test statistic:', stat)\n",
    "print('P-Value:', p_value)\n",
    "if p_value > 0.05 : \n",
    "    print('Accident data of 2016 is normally distributed')\n",
    "else  :\n",
    "    print('Accident data of 2016 is not normally distributed')"
   ]
  },
  {
   "cell_type": "code",
   "execution_count": 38,
   "metadata": {},
   "outputs": [
    {
     "ename": "NameError",
     "evalue": "name 'df_acc_2017' is not defined",
     "output_type": "error",
     "traceback": [
      "\u001b[1;31m---------------------------------------------------------------------------\u001b[0m",
      "\u001b[1;31mNameError\u001b[0m                                 Traceback (most recent call last)",
      "\u001b[1;32m<ipython-input-38-93c5db395992>\u001b[0m in \u001b[0;36m<module>\u001b[1;34m\u001b[0m\n\u001b[0;32m      1\u001b[0m \u001b[1;31m# lets first check the shapiro test for both distributions\u001b[0m\u001b[1;33m\u001b[0m\u001b[1;33m\u001b[0m\u001b[1;33m\u001b[0m\u001b[0m\n\u001b[0;32m      2\u001b[0m \u001b[1;31m# Shapiro test for 2019 accident data\u001b[0m\u001b[1;33m\u001b[0m\u001b[1;33m\u001b[0m\u001b[1;33m\u001b[0m\u001b[0m\n\u001b[1;32m----> 3\u001b[1;33m \u001b[0mstat\u001b[0m\u001b[1;33m,\u001b[0m \u001b[0mp_value\u001b[0m \u001b[1;33m=\u001b[0m \u001b[0mshapiro\u001b[0m\u001b[1;33m(\u001b[0m\u001b[0mdf_acc_2017\u001b[0m\u001b[1;33m)\u001b[0m\u001b[1;33m\u001b[0m\u001b[1;33m\u001b[0m\u001b[0m\n\u001b[0m\u001b[0;32m      4\u001b[0m \u001b[1;33m\u001b[0m\u001b[0m\n\u001b[0;32m      5\u001b[0m \u001b[1;31m# # print the test statistic and corresponding p-value\u001b[0m\u001b[1;33m\u001b[0m\u001b[1;33m\u001b[0m\u001b[1;33m\u001b[0m\u001b[0m\n",
      "\u001b[1;31mNameError\u001b[0m: name 'df_acc_2017' is not defined"
     ]
    }
   ],
   "source": [
    "# lets first check the shapiro test for both distributions\n",
    "# Shapiro test for 2019 accident data\n",
    "stat, p_value = shapiro(df_acc_2017)\n",
    "\n",
    "# # print the test statistic and corresponding p-value \n",
    "print('Test statistic:', stat)\n",
    "print('P-Value:', p_value)\n",
    "if p_value > 0.05 : \n",
    "    print('Accident data of 2017 is normally distributed')\n",
    "else  :\n",
    "    print('Accident data of 2017 is not normally distributed')"
   ]
  },
  {
   "cell_type": "code",
   "execution_count": null,
   "metadata": {},
   "outputs": [],
   "source": [
    "# from above we observe that both distributions are not normally distirbuted\n",
    "# hence we go for non parametric test that is unpaired T test \n",
    "\n",
    "# compute test statistic and corresponding p-value for one-tailed test\n",
    "test_stat, p_value = stats.mannwhitneyu(df_acc_2016, df_acc_2017, alternative = 'less')\n",
    "\n",
    "# print the test statistic and corresponding p-value\n",
    "print('Test statistic:', test_stat)\n",
    "print('p-value:', p_value)"
   ]
  },
  {
   "cell_type": "raw",
   "metadata": {},
   "source": [
    "% of fatal / accidents are same in the year 2017 and year 2018\n"
   ]
  },
  {
   "cell_type": "code",
   "execution_count": null,
   "metadata": {},
   "outputs": [],
   "source": [
    "# introduce one more columnin dataframe fatal/accident * 100 for 2018 and for 2019 data\n",
    "df['percentage of fatal vs accident 2017'] = df.apply(lambda row: (row.Fatal2017/row.Accidents2017)* 100,axis = 1)\n",
    "print(df['percentage of fatal vs accident 2017'])"
   ]
  },
  {
   "cell_type": "code",
   "execution_count": null,
   "metadata": {},
   "outputs": [],
   "source": [
    "df_percentage_17 = df.iloc[:,[5,10,4,9,21,22,23]]\n",
    "df_percentage_17.head()"
   ]
  },
  {
   "cell_type": "code",
   "execution_count": null,
   "metadata": {},
   "outputs": [],
   "source": [
    "# introduce one more columnin dataframe fatal/accident * 100 for 2018 \n",
    "df['percentage of fatal vs accident 2018'] = df.apply(lambda row: (row.Fatal2018/row.Accidents2018)* 100,axis = 1)\n",
    "print(df['percentage of fatal vs accident 2018'])"
   ]
  },
  {
   "cell_type": "code",
   "execution_count": null,
   "metadata": {},
   "outputs": [],
   "source": [
    "df_percentage_18 = df.iloc[:,[4,9,23]]\n",
    "df_percentage_18.head()"
   ]
  },
  {
   "cell_type": "code",
   "execution_count": null,
   "metadata": {},
   "outputs": [],
   "source": [
    "df_fatal_percentage_data = df.iloc[:,[22,23]]\n",
    "df_fatal_percentage_data.head()"
   ]
  },
  {
   "cell_type": "code",
   "execution_count": null,
   "metadata": {},
   "outputs": [],
   "source": [
    "df_accfatal_2017 = df['percentage of fatal vs accident 2017']\n",
    "df_accfatal_2017_avg = df['percentage of fatal vs accident 2017'].mean()\n",
    "df_accfatal_2017_avg"
   ]
  },
  {
   "cell_type": "code",
   "execution_count": null,
   "metadata": {},
   "outputs": [],
   "source": [
    "df_accfatal_2018 = df['percentage of fatal vs accident 2018']\n",
    "df_accfatal_2018_avg = df['percentage of fatal vs accident 2018'].mean()\n",
    "df_accfatal_2018_avg"
   ]
  },
  {
   "cell_type": "raw",
   "metadata": {},
   "source": [
    "Here we will use Wilcoxon Signed Rank Test , two sample paired T test\n",
    "\n",
    "Null Hypothesis ==> After implementation of new Trafic rule % of number of  accidents in 2018 are less than the % of number of accidents in 2017\n",
    "Alternate Hypothesis ==> % of number of accidents in 2018 are more than the % number of accidents in 2017\n",
    "\n"
   ]
  },
  {
   "cell_type": "code",
   "execution_count": null,
   "metadata": {},
   "outputs": [],
   "source": [
    "df_accfatal_2017\n",
    "df_accfatal_2018\n",
    "\n",
    "# perform wilcoxon signed rank test for paired data\n",
    "# pass the before and after weights to the parameter, 'x' and 'y' respectively\n",
    "# pass the one-tailed condition to the parameter, 'alternative'\n",
    "test_stat, p_value = stats.wilcoxon(x = df_accfatal_2017, y = df_accfatal_2018, alternative = 'less')\n",
    "\n",
    "# print the test statistic and corresponding p-value\n",
    "print('Test statistic:', test_stat)\n",
    "print('p-value:', p_value)"
   ]
  },
  {
   "cell_type": "raw",
   "metadata": {},
   "source": [
    "as we see p-Value is less than 0.05 we can reject null hypothesis that % of fatal vs accidents in 2018 is less than that of fatal vs accident in the year 2017. We can conclude that % of fatal vs accidents in 2018 is  more than year 2017"
   ]
  },
  {
   "cell_type": "code",
   "execution_count": 9,
   "metadata": {},
   "outputs": [
    {
     "data": {
      "text/html": [
       "<div>\n",
       "<style scoped>\n",
       "    .dataframe tbody tr th:only-of-type {\n",
       "        vertical-align: middle;\n",
       "    }\n",
       "\n",
       "    .dataframe tbody tr th {\n",
       "        vertical-align: top;\n",
       "    }\n",
       "\n",
       "    .dataframe thead th {\n",
       "        text-align: right;\n",
       "    }\n",
       "</style>\n",
       "<table border=\"1\" class=\"dataframe\">\n",
       "  <thead>\n",
       "    <tr style=\"text-align: right;\">\n",
       "      <th></th>\n",
       "      <th>State/UT Code</th>\n",
       "      <th>Region</th>\n",
       "      <th>Killed2019 Number</th>\n",
       "      <th>Killed2018</th>\n",
       "      <th>Killed2017</th>\n",
       "      <th>Killed2016</th>\n",
       "    </tr>\n",
       "  </thead>\n",
       "  <tbody>\n",
       "    <tr>\n",
       "      <th>0</th>\n",
       "      <td>AP</td>\n",
       "      <td>1.0</td>\n",
       "      <td>2834</td>\n",
       "      <td>2730</td>\n",
       "      <td>3350</td>\n",
       "      <td>3518</td>\n",
       "    </tr>\n",
       "    <tr>\n",
       "      <th>1</th>\n",
       "      <td>AR</td>\n",
       "      <td>6.0</td>\n",
       "      <td>29</td>\n",
       "      <td>61</td>\n",
       "      <td>35</td>\n",
       "      <td>47</td>\n",
       "    </tr>\n",
       "    <tr>\n",
       "      <th>2</th>\n",
       "      <td>AS</td>\n",
       "      <td>6.0</td>\n",
       "      <td>859</td>\n",
       "      <td>744</td>\n",
       "      <td>762</td>\n",
       "      <td>596</td>\n",
       "    </tr>\n",
       "    <tr>\n",
       "      <th>3</th>\n",
       "      <td>BR</td>\n",
       "      <td>3.0</td>\n",
       "      <td>2320</td>\n",
       "      <td>2204</td>\n",
       "      <td>1600</td>\n",
       "      <td>1451</td>\n",
       "    </tr>\n",
       "    <tr>\n",
       "      <th>4</th>\n",
       "      <td>CG</td>\n",
       "      <td>5.0</td>\n",
       "      <td>2416</td>\n",
       "      <td>2140</td>\n",
       "      <td>2020</td>\n",
       "      <td>1801</td>\n",
       "    </tr>\n",
       "  </tbody>\n",
       "</table>\n",
       "</div>"
      ],
      "text/plain": [
       "  State/UT Code  Region  Killed2019 Number  Killed2018  Killed2017  Killed2016\n",
       "0            AP     1.0               2834        2730        3350        3518\n",
       "1            AR     6.0                 29          61          35          47\n",
       "2            AS     6.0                859         744         762         596\n",
       "3            BR     3.0               2320        2204        1600        1451\n",
       "4            CG     5.0               2416        2140        2020        1801"
      ]
     },
     "execution_count": 9,
     "metadata": {},
     "output_type": "execute_result"
    }
   ],
   "source": [
    "df_killed= df.iloc[:,[1,2,13,14,15,16]]\n",
    "df_injured= df.iloc[:,[1,2,17,18,19,20]]\n",
    "df_killed.head()"
   ]
  },
  {
   "cell_type": "code",
   "execution_count": 6,
   "metadata": {},
   "outputs": [
    {
     "data": {
      "text/plain": [
       "403962"
      ]
     },
     "execution_count": 6,
     "metadata": {},
     "output_type": "execute_result"
    }
   ],
   "source": [
    "d_i_19= df_injured[\"Injured2019\"]\n",
    "d_i_19.sum()"
   ]
  },
  {
   "cell_type": "code",
   "execution_count": 15,
   "metadata": {},
   "outputs": [
    {
     "data": {
      "text/plain": [
       "117538"
      ]
     },
     "execution_count": 15,
     "metadata": {},
     "output_type": "execute_result"
    }
   ],
   "source": [
    "d_k_19 = df_killed[\"Killed2019 Number\"]\n",
    "d_k_19.sum()"
   ]
  },
  {
   "cell_type": "code",
   "execution_count": 30,
   "metadata": {},
   "outputs": [
    {
     "data": {
      "text/plain": [
       "414434"
      ]
     },
     "execution_count": 30,
     "metadata": {},
     "output_type": "execute_result"
    }
   ],
   "source": [
    "d_i_18= df_injured[\"Injured2018\"]\n",
    "d_i_18.sum()"
   ]
  },
  {
   "cell_type": "markdown",
   "metadata": {},
   "source": [
    "# Null hypothesis : Injured in 2019 less than or equal to killed in 2019\n",
    "\n"
   ]
  },
  {
   "cell_type": "markdown",
   "metadata": {},
   "source": [
    "# Alternate hypothesis: Injured in 2019 is greater than killed in 2019"
   ]
  },
  {
   "cell_type": "code",
   "execution_count": 14,
   "metadata": {},
   "outputs": [
    {
     "name": "stdout",
     "output_type": "stream",
     "text": [
      "Test statistics =  0.31546467542648315 P value = 5.904648731763773e-12\n"
     ]
    }
   ],
   "source": [
    "# Shapiro test for Normality\n",
    "\n",
    "t_statistics, p_value = shapiro(d_i_19)\n",
    "print(\"Test statistics = \",t_statistics, \"P value =\" , p_value)"
   ]
  },
  {
   "cell_type": "markdown",
   "metadata": {},
   "source": [
    "We can see p value is very low  (<0.05), we can conclude data sample is NOT NORMALLY DISTRIBUTED"
   ]
  },
  {
   "cell_type": "code",
   "execution_count": 16,
   "metadata": {},
   "outputs": [
    {
     "name": "stdout",
     "output_type": "stream",
     "text": [
      "Test Statistics =  0.29851245880126953 P value = 4.1357785252049695e-12\n"
     ]
    }
   ],
   "source": [
    "t_stats,p_val = shapiro(d_k_19)\n",
    "print(\"Test Statistics = \",t_stats,\"P value =\",p_val)"
   ]
  },
  {
   "cell_type": "markdown",
   "metadata": {},
   "source": [
    "We can see p value is very low (<0.05), we can conclude data sample is NOT NORMALLY DISTRIBUTED"
   ]
  },
  {
   "cell_type": "code",
   "execution_count": 32,
   "metadata": {},
   "outputs": [
    {
     "name": "stdout",
     "output_type": "stream",
     "text": [
      "t statistics = 873.0  and  p value = 0.9794865659978111\n"
     ]
    },
    {
     "data": {
      "text/html": [
       "<div>\n",
       "<style scoped>\n",
       "    .dataframe tbody tr th:only-of-type {\n",
       "        vertical-align: middle;\n",
       "    }\n",
       "\n",
       "    .dataframe tbody tr th {\n",
       "        vertical-align: top;\n",
       "    }\n",
       "\n",
       "    .dataframe thead th {\n",
       "        text-align: right;\n",
       "    }\n",
       "</style>\n",
       "<table border=\"1\" class=\"dataframe\">\n",
       "  <thead>\n",
       "    <tr style=\"text-align: right;\">\n",
       "      <th></th>\n",
       "      <th>State/UT</th>\n",
       "      <th>State/UT Code</th>\n",
       "      <th>Region</th>\n",
       "      <th>Fatal2019</th>\n",
       "      <th>Fatal2018</th>\n",
       "      <th>Fatal2017</th>\n",
       "      <th>Fatal2016</th>\n",
       "      <th>Accidents2019 Rank</th>\n",
       "      <th>Accidents2019 Number</th>\n",
       "      <th>Accidents2018</th>\n",
       "      <th>...</th>\n",
       "      <th>Accidents2016</th>\n",
       "      <th>Killed2019 Rank</th>\n",
       "      <th>Killed2019 Number</th>\n",
       "      <th>Killed2018</th>\n",
       "      <th>Killed2017</th>\n",
       "      <th>Killed2016</th>\n",
       "      <th>Injured2019</th>\n",
       "      <th>Injured2018</th>\n",
       "      <th>Injured2017</th>\n",
       "      <th>Injured2016</th>\n",
       "    </tr>\n",
       "  </thead>\n",
       "  <tbody>\n",
       "    <tr>\n",
       "      <th>0</th>\n",
       "      <td>Andhra Pradesh</td>\n",
       "      <td>AP</td>\n",
       "      <td>1.0</td>\n",
       "      <td>2726</td>\n",
       "      <td>2619</td>\n",
       "      <td>3192</td>\n",
       "      <td>3328</td>\n",
       "      <td>9.0</td>\n",
       "      <td>9022</td>\n",
       "      <td>9955</td>\n",
       "      <td>...</td>\n",
       "      <td>11078</td>\n",
       "      <td>9.0</td>\n",
       "      <td>2834</td>\n",
       "      <td>2730</td>\n",
       "      <td>3350</td>\n",
       "      <td>3518</td>\n",
       "      <td>10019</td>\n",
       "      <td>9121</td>\n",
       "      <td>12793</td>\n",
       "      <td>13707</td>\n",
       "    </tr>\n",
       "    <tr>\n",
       "      <th>1</th>\n",
       "      <td>Arunachal Pradesh</td>\n",
       "      <td>AR</td>\n",
       "      <td>6.0</td>\n",
       "      <td>24</td>\n",
       "      <td>46</td>\n",
       "      <td>33</td>\n",
       "      <td>37</td>\n",
       "      <td>33.0</td>\n",
       "      <td>52</td>\n",
       "      <td>94</td>\n",
       "      <td>...</td>\n",
       "      <td>79</td>\n",
       "      <td>28.0</td>\n",
       "      <td>29</td>\n",
       "      <td>61</td>\n",
       "      <td>35</td>\n",
       "      <td>47</td>\n",
       "      <td>54</td>\n",
       "      <td>109</td>\n",
       "      <td>107</td>\n",
       "      <td>148</td>\n",
       "    </tr>\n",
       "    <tr>\n",
       "      <th>2</th>\n",
       "      <td>Assam</td>\n",
       "      <td>AS</td>\n",
       "      <td>6.0</td>\n",
       "      <td>830</td>\n",
       "      <td>716</td>\n",
       "      <td>710</td>\n",
       "      <td>616</td>\n",
       "      <td>18.0</td>\n",
       "      <td>2260</td>\n",
       "      <td>2174</td>\n",
       "      <td>...</td>\n",
       "      <td>1958</td>\n",
       "      <td>19.0</td>\n",
       "      <td>859</td>\n",
       "      <td>744</td>\n",
       "      <td>762</td>\n",
       "      <td>596</td>\n",
       "      <td>1979</td>\n",
       "      <td>1976</td>\n",
       "      <td>1880</td>\n",
       "      <td>1697</td>\n",
       "    </tr>\n",
       "    <tr>\n",
       "      <th>3</th>\n",
       "      <td>Bihar</td>\n",
       "      <td>BR</td>\n",
       "      <td>3.0</td>\n",
       "      <td>2210</td>\n",
       "      <td>2075</td>\n",
       "      <td>1422</td>\n",
       "      <td>1299</td>\n",
       "      <td>16.0</td>\n",
       "      <td>3536</td>\n",
       "      <td>3495</td>\n",
       "      <td>...</td>\n",
       "      <td>2650</td>\n",
       "      <td>11.0</td>\n",
       "      <td>2320</td>\n",
       "      <td>2204</td>\n",
       "      <td>1600</td>\n",
       "      <td>1451</td>\n",
       "      <td>2282</td>\n",
       "      <td>2455</td>\n",
       "      <td>1966</td>\n",
       "      <td>1954</td>\n",
       "    </tr>\n",
       "    <tr>\n",
       "      <th>4</th>\n",
       "      <td>Chhattisgarh</td>\n",
       "      <td>CG</td>\n",
       "      <td>5.0</td>\n",
       "      <td>2251</td>\n",
       "      <td>2049</td>\n",
       "      <td>1836</td>\n",
       "      <td>1622</td>\n",
       "      <td>11.0</td>\n",
       "      <td>7078</td>\n",
       "      <td>6733</td>\n",
       "      <td>...</td>\n",
       "      <td>6374</td>\n",
       "      <td>10.0</td>\n",
       "      <td>2416</td>\n",
       "      <td>2140</td>\n",
       "      <td>2020</td>\n",
       "      <td>1801</td>\n",
       "      <td>6643</td>\n",
       "      <td>6257</td>\n",
       "      <td>6027</td>\n",
       "      <td>5954</td>\n",
       "    </tr>\n",
       "  </tbody>\n",
       "</table>\n",
       "<p>5 rows × 21 columns</p>\n",
       "</div>"
      ],
      "text/plain": [
       "            State/UT State/UT Code  Region  Fatal2019  Fatal2018  Fatal2017  \\\n",
       "0     Andhra Pradesh            AP     1.0       2726       2619       3192   \n",
       "1  Arunachal Pradesh            AR     6.0         24         46         33   \n",
       "2              Assam            AS     6.0        830        716        710   \n",
       "3              Bihar            BR     3.0       2210       2075       1422   \n",
       "4       Chhattisgarh            CG     5.0       2251       2049       1836   \n",
       "\n",
       "   Fatal2016  Accidents2019 Rank  Accidents2019 Number  Accidents2018  ...  \\\n",
       "0       3328                 9.0                  9022           9955  ...   \n",
       "1         37                33.0                    52             94  ...   \n",
       "2        616                18.0                  2260           2174  ...   \n",
       "3       1299                16.0                  3536           3495  ...   \n",
       "4       1622                11.0                  7078           6733  ...   \n",
       "\n",
       "   Accidents2016  Killed2019 Rank  Killed2019 Number  Killed2018  Killed2017  \\\n",
       "0          11078              9.0               2834        2730        3350   \n",
       "1             79             28.0                 29          61          35   \n",
       "2           1958             19.0                859         744         762   \n",
       "3           2650             11.0               2320        2204        1600   \n",
       "4           6374             10.0               2416        2140        2020   \n",
       "\n",
       "   Killed2016  Injured2019  Injured2018  Injured2017  Injured2016  \n",
       "0        3518        10019         9121        12793        13707  \n",
       "1          47           54          109          107          148  \n",
       "2         596         1979         1976         1880         1697  \n",
       "3        1451         2282         2455         1966         1954  \n",
       "4        1801         6643         6257         6027         5954  \n",
       "\n",
       "[5 rows x 21 columns]"
      ]
     },
     "execution_count": 32,
     "metadata": {},
     "output_type": "execute_result"
    }
   ],
   "source": [
    "# USING MANNWHITNEY U TEST TO check for two independent datasets.\n",
    "t_stat, p_value = stats.mannwhitneyu(d_i_19,d_k_19, alternative=\"less\")\n",
    "print(\"t statistics =\",t_stat, \" and  p value =\",p_value)\n",
    "df.head()"
   ]
  },
  {
   "cell_type": "code",
   "execution_count": 65,
   "metadata": {},
   "outputs": [
    {
     "data": {
      "text/html": [
       "<div>\n",
       "<style scoped>\n",
       "    .dataframe tbody tr th:only-of-type {\n",
       "        vertical-align: middle;\n",
       "    }\n",
       "\n",
       "    .dataframe tbody tr th {\n",
       "        vertical-align: top;\n",
       "    }\n",
       "\n",
       "    .dataframe thead th {\n",
       "        text-align: right;\n",
       "    }\n",
       "</style>\n",
       "<table border=\"1\" class=\"dataframe\">\n",
       "  <thead>\n",
       "    <tr style=\"text-align: right;\">\n",
       "      <th></th>\n",
       "      <th>State/UT</th>\n",
       "      <th>State/UT Code</th>\n",
       "      <th>Region</th>\n",
       "      <th>Fatal2019</th>\n",
       "      <th>Fatal2018</th>\n",
       "      <th>Fatal2017</th>\n",
       "      <th>Fatal2016</th>\n",
       "      <th>Accidents2019 Rank</th>\n",
       "      <th>Accidents2019 Number</th>\n",
       "      <th>Accidents2018</th>\n",
       "      <th>...</th>\n",
       "      <th>Accidents2016</th>\n",
       "      <th>Killed2019 Rank</th>\n",
       "      <th>Killed2019 Number</th>\n",
       "      <th>Killed2018</th>\n",
       "      <th>Killed2017</th>\n",
       "      <th>Killed2016</th>\n",
       "      <th>Injured2019</th>\n",
       "      <th>Injured2018</th>\n",
       "      <th>Injured2017</th>\n",
       "      <th>Injured2016</th>\n",
       "    </tr>\n",
       "  </thead>\n",
       "  <tbody>\n",
       "    <tr>\n",
       "      <th>0</th>\n",
       "      <td>Andhra Pradesh</td>\n",
       "      <td>AP</td>\n",
       "      <td>1.0</td>\n",
       "      <td>2726</td>\n",
       "      <td>2619</td>\n",
       "      <td>3192</td>\n",
       "      <td>3328</td>\n",
       "      <td>9.0</td>\n",
       "      <td>9022</td>\n",
       "      <td>9955</td>\n",
       "      <td>...</td>\n",
       "      <td>11078</td>\n",
       "      <td>9.0</td>\n",
       "      <td>2834</td>\n",
       "      <td>2730</td>\n",
       "      <td>3350</td>\n",
       "      <td>3518</td>\n",
       "      <td>10019</td>\n",
       "      <td>9121</td>\n",
       "      <td>12793</td>\n",
       "      <td>13707</td>\n",
       "    </tr>\n",
       "    <tr>\n",
       "      <th>11</th>\n",
       "      <td>Karnataka</td>\n",
       "      <td>KA</td>\n",
       "      <td>1.0</td>\n",
       "      <td>3741</td>\n",
       "      <td>3740</td>\n",
       "      <td>3505</td>\n",
       "      <td>3697</td>\n",
       "      <td>5.0</td>\n",
       "      <td>16849</td>\n",
       "      <td>17384</td>\n",
       "      <td>...</td>\n",
       "      <td>18008</td>\n",
       "      <td>5.0</td>\n",
       "      <td>3938</td>\n",
       "      <td>3946</td>\n",
       "      <td>3715</td>\n",
       "      <td>3921</td>\n",
       "      <td>19443</td>\n",
       "      <td>20515</td>\n",
       "      <td>20816</td>\n",
       "      <td>21252</td>\n",
       "    </tr>\n",
       "    <tr>\n",
       "      <th>12</th>\n",
       "      <td>Kerala</td>\n",
       "      <td>KL</td>\n",
       "      <td>1.0</td>\n",
       "      <td>2114</td>\n",
       "      <td>2105</td>\n",
       "      <td>1912</td>\n",
       "      <td>2072</td>\n",
       "      <td>2.0</td>\n",
       "      <td>23555</td>\n",
       "      <td>23468</td>\n",
       "      <td>...</td>\n",
       "      <td>23076</td>\n",
       "      <td>12.0</td>\n",
       "      <td>2202</td>\n",
       "      <td>2179</td>\n",
       "      <td>1985</td>\n",
       "      <td>2139</td>\n",
       "      <td>26010</td>\n",
       "      <td>26241</td>\n",
       "      <td>24768</td>\n",
       "      <td>25585</td>\n",
       "    </tr>\n",
       "    <tr>\n",
       "      <th>23</th>\n",
       "      <td>Tamil Nadu</td>\n",
       "      <td>TN</td>\n",
       "      <td>1.0</td>\n",
       "      <td>3027</td>\n",
       "      <td>3322</td>\n",
       "      <td>4424</td>\n",
       "      <td>4988</td>\n",
       "      <td>3.0</td>\n",
       "      <td>20316</td>\n",
       "      <td>21488</td>\n",
       "      <td>...</td>\n",
       "      <td>25453</td>\n",
       "      <td>8.0</td>\n",
       "      <td>3151</td>\n",
       "      <td>3439</td>\n",
       "      <td>4574</td>\n",
       "      <td>5138</td>\n",
       "      <td>22890</td>\n",
       "      <td>23782</td>\n",
       "      <td>24352</td>\n",
       "      <td>27990</td>\n",
       "    </tr>\n",
       "    <tr>\n",
       "      <th>24</th>\n",
       "      <td>Telangana</td>\n",
       "      <td>TS</td>\n",
       "      <td>1.0</td>\n",
       "      <td>3383</td>\n",
       "      <td>3134</td>\n",
       "      <td>3101</td>\n",
       "      <td>3370</td>\n",
       "      <td>8.0</td>\n",
       "      <td>11717</td>\n",
       "      <td>12222</td>\n",
       "      <td>...</td>\n",
       "      <td>12555</td>\n",
       "      <td>6.0</td>\n",
       "      <td>3571</td>\n",
       "      <td>3374</td>\n",
       "      <td>3285</td>\n",
       "      <td>3608</td>\n",
       "      <td>11794</td>\n",
       "      <td>12563</td>\n",
       "      <td>12681</td>\n",
       "      <td>12975</td>\n",
       "    </tr>\n",
       "    <tr>\n",
       "      <th>34</th>\n",
       "      <td>Lakshadweep</td>\n",
       "      <td>LD</td>\n",
       "      <td>1.0</td>\n",
       "      <td>0</td>\n",
       "      <td>1</td>\n",
       "      <td>0</td>\n",
       "      <td>1</td>\n",
       "      <td>36.0</td>\n",
       "      <td>1</td>\n",
       "      <td>3</td>\n",
       "      <td>...</td>\n",
       "      <td>1</td>\n",
       "      <td>36.0</td>\n",
       "      <td>0</td>\n",
       "      <td>1</td>\n",
       "      <td>0</td>\n",
       "      <td>1</td>\n",
       "      <td>1</td>\n",
       "      <td>3</td>\n",
       "      <td>1</td>\n",
       "      <td>0</td>\n",
       "    </tr>\n",
       "    <tr>\n",
       "      <th>35</th>\n",
       "      <td>Puducherry</td>\n",
       "      <td>PY</td>\n",
       "      <td>1.0</td>\n",
       "      <td>38</td>\n",
       "      <td>105</td>\n",
       "      <td>70</td>\n",
       "      <td>76</td>\n",
       "      <td>23.0</td>\n",
       "      <td>537</td>\n",
       "      <td>690</td>\n",
       "      <td>...</td>\n",
       "      <td>519</td>\n",
       "      <td>27.0</td>\n",
       "      <td>45</td>\n",
       "      <td>105</td>\n",
       "      <td>77</td>\n",
       "      <td>78</td>\n",
       "      <td>637</td>\n",
       "      <td>694</td>\n",
       "      <td>659</td>\n",
       "      <td>535</td>\n",
       "    </tr>\n",
       "  </tbody>\n",
       "</table>\n",
       "<p>7 rows × 21 columns</p>\n",
       "</div>"
      ],
      "text/plain": [
       "          State/UT State/UT Code  Region  Fatal2019  Fatal2018  Fatal2017  \\\n",
       "0   Andhra Pradesh            AP     1.0       2726       2619       3192   \n",
       "11       Karnataka            KA     1.0       3741       3740       3505   \n",
       "12          Kerala            KL     1.0       2114       2105       1912   \n",
       "23      Tamil Nadu            TN     1.0       3027       3322       4424   \n",
       "24       Telangana            TS     1.0       3383       3134       3101   \n",
       "34     Lakshadweep            LD     1.0          0          1          0   \n",
       "35      Puducherry            PY     1.0         38        105         70   \n",
       "\n",
       "    Fatal2016  Accidents2019 Rank  Accidents2019 Number  Accidents2018  ...  \\\n",
       "0        3328                 9.0                  9022           9955  ...   \n",
       "11       3697                 5.0                 16849          17384  ...   \n",
       "12       2072                 2.0                 23555          23468  ...   \n",
       "23       4988                 3.0                 20316          21488  ...   \n",
       "24       3370                 8.0                 11717          12222  ...   \n",
       "34          1                36.0                     1              3  ...   \n",
       "35         76                23.0                   537            690  ...   \n",
       "\n",
       "    Accidents2016  Killed2019 Rank  Killed2019 Number  Killed2018  Killed2017  \\\n",
       "0           11078              9.0               2834        2730        3350   \n",
       "11          18008              5.0               3938        3946        3715   \n",
       "12          23076             12.0               2202        2179        1985   \n",
       "23          25453              8.0               3151        3439        4574   \n",
       "24          12555              6.0               3571        3374        3285   \n",
       "34              1             36.0                  0           1           0   \n",
       "35            519             27.0                 45         105          77   \n",
       "\n",
       "    Killed2016  Injured2019  Injured2018  Injured2017  Injured2016  \n",
       "0         3518        10019         9121        12793        13707  \n",
       "11        3921        19443        20515        20816        21252  \n",
       "12        2139        26010        26241        24768        25585  \n",
       "23        5138        22890        23782        24352        27990  \n",
       "24        3608        11794        12563        12681        12975  \n",
       "34           1            1            3            1            0  \n",
       "35          78          637          694          659          535  \n",
       "\n",
       "[7 rows x 21 columns]"
      ]
     },
     "execution_count": 65,
     "metadata": {},
     "output_type": "execute_result"
    }
   ],
   "source": [
    "d_k_south = df[df[\"Region\"]== 1]\n",
    "d_k_west= df[df[\"Region\"]== 2]\n",
    "d_k_east = df[df[\"Region\"]==3]\n",
    "d_k_north= df[df[\"Region\"]== 4]\n",
    "d_k_central= df[df[\"Region\"]== 5]\n",
    "d_k_ne= df[df[\"Region\"]== 6]\n",
    "d_k_south\n"
   ]
  },
  {
   "cell_type": "code",
   "execution_count": 60,
   "metadata": {},
   "outputs": [
    {
     "name": "stdout",
     "output_type": "stream",
     "text": [
      " Total Accidents in South = 81997 No of states = 7\n",
      " Total Accidents in West = 40975 No of states = 6\n",
      " Total Accidents in East = 13307 No of states = 6\n",
      " Total Accidents in North = 29669 No of states = 8\n",
      " Total Accidents in Central = 34141 No of states = 2\n",
      " Total Accidents in North East = 2746 No of states = 7\n"
     ]
    }
   ],
   "source": [
    "d_south_total = d_k_south[\"Accidents2019 Number\"].sum()\n",
    "d_east_total= d_k_east[\"Accidents2019 Number\"].sum()\n",
    "d_west_total= d_k_west[\"Accidents2019 Number\"].sum()\n",
    "d_north_total = d_k_north[\"Accidents2019 Number\"].sum()\n",
    "d_central_total= d_k_central[\"Accidents2019 Number\"].sum()\n",
    "d_ne_total= d_k_ne[\"Accidents2019 Number\"].sum()\n",
    "d_south_count = d_k_south[\"State/UT\"].count()\n",
    "d_west_count= d_k_west[\"State/UT\"].count()\n",
    "d_east_count = d_k_east[\"State/UT\"].count()\n",
    "d_north_count= d_k_north[\"State/UT\"].count()\n",
    "d_central_count= d_k_central[\"State/UT\"].count()\n",
    "d_ne_count= d_k_ne[\"State/UT\"].count()\n",
    "print(\" Total Accidents in South =\",d_south_total, \"No of states =\",d_south_count)\n",
    "print(\" Total Accidents in West =\",d_west_total,\"No of states =\",d_west_count)\n",
    "print(\" Total Accidents in East =\",d_east_total,\"No of states =\",d_east_count)\n",
    "print(\" Total Accidents in North =\",d_north_total,\"No of states =\",d_north_count)\n",
    "print(\" Total Accidents in Central =\",d_central_total,\"No of states =\",d_central_count)\n",
    "print(\" Total Accidents in North East =\",d_ne_total,\"No of states =\",d_ne_count)\n"
   ]
  },
  {
   "cell_type": "code",
   "execution_count": 74,
   "metadata": {},
   "outputs": [
    {
     "name": "stdout",
     "output_type": "stream",
     "text": [
      "F_onewayResult(statistic=array([4.38722309]), pvalue=array([0.00407504]))\n",
      "\n"
     ]
    }
   ],
   "source": [
    "print(stats.f_oneway(d_k_south.iloc[:,[8]],d_k_east.iloc[:,[8]],d_k_west.iloc[:,[8]],d_k_north.iloc[:,[8]],d_k_central.iloc[:,[8]],d_k_ne.iloc[:,[8]]))\n",
    "print()"
   ]
  },
  {
   "cell_type": "markdown",
   "metadata": {},
   "source": [
    "# please suggest suitable hypothesis for this"
   ]
  },
  {
   "cell_type": "markdown",
   "metadata": {},
   "source": []
  }
 ],
 "metadata": {
  "kernelspec": {
   "display_name": "Python 3",
   "language": "python",
   "name": "python3"
  },
  "language_info": {
   "codemirror_mode": {
    "name": "ipython",
    "version": 3
   },
   "file_extension": ".py",
   "mimetype": "text/x-python",
   "name": "python",
   "nbconvert_exporter": "python",
   "pygments_lexer": "ipython3",
   "version": "3.7.6"
  }
 },
 "nbformat": 4,
 "nbformat_minor": 4
}
